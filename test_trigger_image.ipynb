{
 "cells": [
  {
   "cell_type": "code",
   "execution_count": 1,
   "metadata": {},
   "outputs": [],
   "source": [
    "from Trigger_image import *"
   ]
  },
  {
   "cell_type": "markdown",
   "metadata": {},
   "source": [
    "### Initialize the camera"
   ]
  },
  {
   "cell_type": "code",
   "execution_count": 2,
   "metadata": {},
   "outputs": [
    {
     "name": "stdout",
     "output_type": "stream",
     "text": [
      "*** INITIALIZING CAMERA ***\n",
      "\n"
     ]
    }
   ],
   "source": [
    "cam, cam_list, system = init_camera()"
   ]
  },
  {
   "cell_type": "markdown",
   "metadata": {},
   "source": [
    "### Configure external trigger"
   ]
  },
  {
   "cell_type": "code",
   "execution_count": 3,
   "metadata": {},
   "outputs": [
    {
     "name": "stdout",
     "output_type": "stream",
     "text": [
      "*** CONFIGURING TRIGGER ***\n",
      "\n",
      "Trigger mode disabled...\n",
      "Trigger selector set to frame start...\n",
      "Trigger source set to Line 0...\n",
      "Trigger activation set to RisingEdge...\n",
      "Trigger mode turned back on...\n"
     ]
    },
    {
     "data": {
      "text/plain": [
       "True"
      ]
     },
     "execution_count": 3,
     "metadata": {},
     "output_type": "execute_result"
    }
   ],
   "source": [
    "# Enable and configure external trigger\n",
    "configure_trigger(cam)"
   ]
  },
  {
   "cell_type": "markdown",
   "metadata": {},
   "source": [
    "### Image acquisition:\n",
    "at each trigger event, an image is saved on the camera buffer"
   ]
  },
  {
   "cell_type": "code",
   "execution_count": 4,
   "metadata": {},
   "outputs": [
    {
     "name": "stdout",
     "output_type": "stream",
     "text": [
      "*** IMAGE ACQUISITION ***\n",
      "\n",
      "Acquisition mode set to continuous...\n",
      "Acquiring images: waiting for external trigger\n"
     ]
    }
   ],
   "source": [
    "# Acquire Image\n",
    "Start_acquisition(cam)"
   ]
  },
  {
   "cell_type": "markdown",
   "metadata": {},
   "source": [
    "### Get imgage from the buffer and save it"
   ]
  },
  {
   "cell_type": "code",
   "execution_count": 5,
   "metadata": {},
   "outputs": [
    {
     "name": "stdout",
     "output_type": "stream",
     "text": [
      "*** SAVING IMAGE ***\n",
      "\n",
      "Processing image, width = 720, height = 540\n",
      "Image saved at Triggered_image.jpg\n",
      "\n",
      "Got image. Acquisition ended.\n"
     ]
    }
   ],
   "source": [
    "image_result = GetImage(cam)\n",
    "save_image(image_result, filename='Triggered_image.jpg')"
   ]
  },
  {
   "cell_type": "markdown",
   "metadata": {},
   "source": [
    "### Close FLIR camera"
   ]
  },
  {
   "cell_type": "code",
   "execution_count": 11,
   "metadata": {},
   "outputs": [
    {
     "name": "stdout",
     "output_type": "stream",
     "text": [
      "Trigger mode disabled...\n",
      "Camera correcly closed.\n"
     ]
    }
   ],
   "source": [
    "# Close camera\n",
    "reset_trigger(cam)\n",
    "close_camera(cam, cam_list, system)"
   ]
  }
 ],
 "metadata": {
  "kernelspec": {
   "display_name": "Python 3",
   "language": "python",
   "name": "python3"
  },
  "language_info": {
   "codemirror_mode": {
    "name": "ipython",
    "version": 3
   },
   "file_extension": ".py",
   "mimetype": "text/x-python",
   "name": "python",
   "nbconvert_exporter": "python",
   "pygments_lexer": "ipython3",
   "version": "3.10.7"
  }
 },
 "nbformat": 4,
 "nbformat_minor": 2
}
